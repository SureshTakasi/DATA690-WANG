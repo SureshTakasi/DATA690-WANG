{
 "cells": [
  {
   "cell_type": "markdown",
   "metadata": {},
   "source": [
    "## Point Estimate and Interval Estimate (Confidence Interval) Using t-distribution\n",
    "#### A random survey of enrollment at 35 community colleges across the United States yielded the following figures:\n",
    "\n",
    "#### 6,414; 1,550; 2,109; 9,350; 21,828; 4,300; 5,944; 5,722; 2,825; 2,044;\n",
    "\n",
    "#### 5,481; 5,200; 5,853; 2,750; 10,012; 6,357; 27,000; 9,414; 7,681; 3,200;\n",
    "\n",
    "#### 17,500; 9,200; 7,380; 18,314; 6,557; 13,713; 17,768; 7,493; 2,771; 2,861;\n",
    "\n",
    "#### 1,263; 7,285; 28,165; 5,080; 11,622\n",
    "\n",
    "#### Perform point estimate and interval estimate of average enrollment of US community colleges with 95% confidence level.\n",
    "\n",
    "#### Since we don't know the population variance, we use t-distribution instead of normal distribution."
   ]
  },
  {
   "cell_type": "code",
   "execution_count": 1,
   "metadata": {},
   "outputs": [],
   "source": [
    "\n",
    "# Import packages\n",
    "import math\n",
    "import scipy.stats as stats\n",
    "import numpy as np"
   ]
  },
  {
   "cell_type": "code",
   "execution_count": 3,
   "metadata": {},
   "outputs": [],
   "source": [
    "sample = [6414, 1550, 2109, 9350, 21828, 4300, 5944, 5722, 2825, 2044,\n",
    "\n",
    "5481, 5200, 5853, 2750, 10012, 6357, 27000, 9414, 7681, 3200,\n",
    "\n",
    "17500, 9200, 7380, 18314, 6557, 13713, 17768, 7493, 2771, 2861,\n",
    "\n",
    "1263, 7285, 28165, 5080, 11622]"
   ]
  },
  {
   "cell_type": "code",
   "execution_count": 4,
   "metadata": {},
   "outputs": [
    {
     "data": {
      "text/plain": [
       "35"
      ]
     },
     "execution_count": 4,
     "metadata": {},
     "output_type": "execute_result"
    }
   ],
   "source": [
    "len(sample)"
   ]
  },
  {
   "cell_type": "markdown",
   "metadata": {},
   "source": [
    "#### Sample Mean\n"
   ]
  },
  {
   "cell_type": "code",
   "execution_count": 6,
   "metadata": {},
   "outputs": [
    {
     "name": "stdout",
     "output_type": "stream",
     "text": [
      "Sample mean = 8628.74\n"
     ]
    }
   ],
   "source": [
    "sample_mean = round(np.mean(sample),2)\n",
    "print(\"Sample mean =\", sample_mean)"
   ]
  },
  {
   "cell_type": "markdown",
   "metadata": {},
   "source": [
    "#### Standard Deviation"
   ]
  },
  {
   "cell_type": "code",
   "execution_count": 10,
   "metadata": {},
   "outputs": [
    {
     "name": "stdout",
     "output_type": "stream",
     "text": [
      "Sample Standard Deviation= 6944.0\n"
     ]
    }
   ],
   "source": [
    "sample_dev = round(np.std(sample, ddof=1))        \n",
    "print(\"Sample Standard Deviation=\", sample_dev)"
   ]
  },
  {
   "cell_type": "markdown",
   "metadata": {},
   "source": [
    "#### Sample Standard Error"
   ]
  },
  {
   "cell_type": "code",
   "execution_count": 11,
   "metadata": {},
   "outputs": [
    {
     "name": "stdout",
     "output_type": "stream",
     "text": [
      "Sample Standard Error= 1174.0\n"
     ]
    }
   ],
   "source": [
    "std_error = round(sample_std / math.sqrt(len(sample)))\n",
    "print(\"Sample Standard Error=\", std_error)"
   ]
  },
  {
   "cell_type": "markdown",
   "metadata": {},
   "source": [
    "#### Calculating t Critical value"
   ]
  },
  {
   "cell_type": "code",
   "execution_count": 13,
   "metadata": {},
   "outputs": [
    {
     "name": "stdout",
     "output_type": "stream",
     "text": [
      "t critical value or t statistics =  2.13\n"
     ]
    }
   ],
   "source": [
    "\n",
    "t_value = stats.t.ppf(0.975, 15)\n",
    "print(\"t critical value or t statistics = \", round(t_value,2))"
   ]
  },
  {
   "cell_type": "markdown",
   "metadata": {},
   "source": [
    "#### Calculating Margin of Error"
   ]
  },
  {
   "cell_type": "code",
   "execution_count": 15,
   "metadata": {},
   "outputs": [
    {
     "name": "stdout",
     "output_type": "stream",
     "text": [
      "Margin of Error = 2502.32\n"
     ]
    }
   ],
   "source": [
    "margin_of_error = round(t_value * std_error,2) \n",
    "print(\"Margin of Error =\", margin_of_error)"
   ]
  },
  {
   "cell_type": "markdown",
   "metadata": {},
   "source": [
    "#### Calculating Lower  limit of Confidence Interval"
   ]
  },
  {
   "cell_type": "code",
   "execution_count": 16,
   "metadata": {},
   "outputs": [
    {
     "name": "stdout",
     "output_type": "stream",
     "text": [
      "Lower Limit =  6126.42\n"
     ]
    }
   ],
   "source": [
    "lower_limit = sample_mean - margin_of_error\n",
    "print (\"Lower Limit = \", lower_limit)"
   ]
  },
  {
   "cell_type": "markdown",
   "metadata": {},
   "source": [
    "#### Calculating Upper limit of Confidence interval"
   ]
  },
  {
   "cell_type": "code",
   "execution_count": 17,
   "metadata": {},
   "outputs": [
    {
     "name": "stdout",
     "output_type": "stream",
     "text": [
      "Upper Limit =  11131.06\n"
     ]
    }
   ],
   "source": [
    "upper_limit = sample_mean + margin_of_error\n",
    "print (\"Upper Limit = \", upper_limit)"
   ]
  },
  {
   "cell_type": "code",
   "execution_count": 20,
   "metadata": {},
   "outputs": [
    {
     "name": "stdout",
     "output_type": "stream",
     "text": [
      " The 95% Confidence Interval = ( 6126.42 , 11131.06 )\n"
     ]
    }
   ],
   "source": [
    "print(\" The 95% Confidence Interval = (\", lower_limit, \",\", upper_limit, \")\")"
   ]
  },
  {
   "cell_type": "code",
   "execution_count": null,
   "metadata": {},
   "outputs": [],
   "source": []
  }
 ],
 "metadata": {
  "kernelspec": {
   "display_name": "Python 3",
   "language": "python",
   "name": "python3"
  },
  "language_info": {
   "codemirror_mode": {
    "name": "ipython",
    "version": 3
   },
   "file_extension": ".py",
   "mimetype": "text/x-python",
   "name": "python",
   "nbconvert_exporter": "python",
   "pygments_lexer": "ipython3",
   "version": "3.7.4"
  }
 },
 "nbformat": 4,
 "nbformat_minor": 2
}
