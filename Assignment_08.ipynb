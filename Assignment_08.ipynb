{
  "nbformat": 4,
  "nbformat_minor": 0,
  "metadata": {
    "colab": {
      "name": "Assignment_08.ipynb",
      "provenance": [],
      "authorship_tag": "ABX9TyNyGU0MQbhbdW2cNdjlt2Ns",
      "include_colab_link": true
    },
    "kernelspec": {
      "name": "python3",
      "display_name": "Python 3"
    }
  },
  "cells": [
    {
      "cell_type": "markdown",
      "metadata": {
        "id": "view-in-github",
        "colab_type": "text"
      },
      "source": [
        "<a href=\"https://colab.research.google.com/github/SureshTakasi/DATA690-WANG/blob/master/Assignment_08.ipynb\" target=\"_parent\"><img src=\"https://colab.research.google.com/assets/colab-badge.svg\" alt=\"Open In Colab\"/></a>"
      ]
    },
    {
      "cell_type": "code",
      "metadata": {
        "id": "2FF6W3smFOoo",
        "colab_type": "code",
        "colab": {}
      },
      "source": [
        "import pandas as pd\n",
        "import numpy as np\n",
        "import math\n"
      ],
      "execution_count": 0,
      "outputs": []
    },
    {
      "cell_type": "code",
      "metadata": {
        "id": "eneXfwszJb3T",
        "colab_type": "code",
        "outputId": "214690ee-bb52-4a4c-9f7d-298807dac847",
        "colab": {
          "base_uri": "https://localhost:8080/",
          "height": 34
        }
      },
      "source": [
        "DATA_URL = 'https://ed-public-download.app.cloud.gov/downloads/Most-Recent-Cohorts-All-Data-Elements.csv'\n",
        "col_names = [\"CONTROL\", \"MD_EARN_WNE_P10\"]\n",
        "df = pd.read_csv(DATA_URL, usecols=col_names)\n",
        "df.shape"
      ],
      "execution_count": 9,
      "outputs": [
        {
          "output_type": "execute_result",
          "data": {
            "text/plain": [
              "(6806, 2)"
            ]
          },
          "metadata": {
            "tags": []
          },
          "execution_count": 9
        }
      ]
    },
    {
      "cell_type": "code",
      "metadata": {
        "id": "fTHFkBE2QYEU",
        "colab_type": "code",
        "outputId": "b99c71fd-830c-4354-b3f7-deef63410c83",
        "colab": {
          "base_uri": "https://localhost:8080/",
          "height": 204
        }
      },
      "source": [
        "df.head()"
      ],
      "execution_count": 10,
      "outputs": [
        {
          "output_type": "execute_result",
          "data": {
            "text/html": [
              "<div>\n",
              "<style scoped>\n",
              "    .dataframe tbody tr th:only-of-type {\n",
              "        vertical-align: middle;\n",
              "    }\n",
              "\n",
              "    .dataframe tbody tr th {\n",
              "        vertical-align: top;\n",
              "    }\n",
              "\n",
              "    .dataframe thead th {\n",
              "        text-align: right;\n",
              "    }\n",
              "</style>\n",
              "<table border=\"1\" class=\"dataframe\">\n",
              "  <thead>\n",
              "    <tr style=\"text-align: right;\">\n",
              "      <th></th>\n",
              "      <th>CONTROL</th>\n",
              "      <th>MD_EARN_WNE_P10</th>\n",
              "    </tr>\n",
              "  </thead>\n",
              "  <tbody>\n",
              "    <tr>\n",
              "      <th>0</th>\n",
              "      <td>1</td>\n",
              "      <td>31000</td>\n",
              "    </tr>\n",
              "    <tr>\n",
              "      <th>1</th>\n",
              "      <td>1</td>\n",
              "      <td>41200</td>\n",
              "    </tr>\n",
              "    <tr>\n",
              "      <th>2</th>\n",
              "      <td>2</td>\n",
              "      <td>39600</td>\n",
              "    </tr>\n",
              "    <tr>\n",
              "      <th>3</th>\n",
              "      <td>1</td>\n",
              "      <td>46700</td>\n",
              "    </tr>\n",
              "    <tr>\n",
              "      <th>4</th>\n",
              "      <td>1</td>\n",
              "      <td>27700</td>\n",
              "    </tr>\n",
              "  </tbody>\n",
              "</table>\n",
              "</div>"
            ],
            "text/plain": [
              "   CONTROL MD_EARN_WNE_P10\n",
              "0        1           31000\n",
              "1        1           41200\n",
              "2        2           39600\n",
              "3        1           46700\n",
              "4        1           27700"
            ]
          },
          "metadata": {
            "tags": []
          },
          "execution_count": 10
        }
      ]
    },
    {
      "cell_type": "code",
      "metadata": {
        "id": "09gl_F59L0tA",
        "colab_type": "code",
        "colab": {
          "base_uri": "https://localhost:8080/",
          "height": 204
        },
        "outputId": "b65e6c4b-a8f5-4f10-941a-22e670131547"
      },
      "source": [
        "df.sample(5)"
      ],
      "execution_count": 11,
      "outputs": [
        {
          "output_type": "execute_result",
          "data": {
            "text/html": [
              "<div>\n",
              "<style scoped>\n",
              "    .dataframe tbody tr th:only-of-type {\n",
              "        vertical-align: middle;\n",
              "    }\n",
              "\n",
              "    .dataframe tbody tr th {\n",
              "        vertical-align: top;\n",
              "    }\n",
              "\n",
              "    .dataframe thead th {\n",
              "        text-align: right;\n",
              "    }\n",
              "</style>\n",
              "<table border=\"1\" class=\"dataframe\">\n",
              "  <thead>\n",
              "    <tr style=\"text-align: right;\">\n",
              "      <th></th>\n",
              "      <th>CONTROL</th>\n",
              "      <th>MD_EARN_WNE_P10</th>\n",
              "    </tr>\n",
              "  </thead>\n",
              "  <tbody>\n",
              "    <tr>\n",
              "      <th>5321</th>\n",
              "      <td>3</td>\n",
              "      <td>NaN</td>\n",
              "    </tr>\n",
              "    <tr>\n",
              "      <th>3409</th>\n",
              "      <td>1</td>\n",
              "      <td>41900</td>\n",
              "    </tr>\n",
              "    <tr>\n",
              "      <th>3756</th>\n",
              "      <td>1</td>\n",
              "      <td>35500</td>\n",
              "    </tr>\n",
              "    <tr>\n",
              "      <th>1543</th>\n",
              "      <td>2</td>\n",
              "      <td>32500</td>\n",
              "    </tr>\n",
              "    <tr>\n",
              "      <th>5162</th>\n",
              "      <td>3</td>\n",
              "      <td>PrivacySuppressed</td>\n",
              "    </tr>\n",
              "  </tbody>\n",
              "</table>\n",
              "</div>"
            ],
            "text/plain": [
              "      CONTROL    MD_EARN_WNE_P10\n",
              "5321        3                NaN\n",
              "3409        1              41900\n",
              "3756        1              35500\n",
              "1543        2              32500\n",
              "5162        3  PrivacySuppressed"
            ]
          },
          "metadata": {
            "tags": []
          },
          "execution_count": 11
        }
      ]
    },
    {
      "cell_type": "code",
      "metadata": {
        "id": "tR1TByR_92sJ",
        "colab_type": "code",
        "colab": {
          "base_uri": "https://localhost:8080/",
          "height": 170
        },
        "outputId": "d584a961-5e47-4b10-9f6c-210030707d8f"
      },
      "source": [
        "df.info()"
      ],
      "execution_count": 12,
      "outputs": [
        {
          "output_type": "stream",
          "text": [
            "<class 'pandas.core.frame.DataFrame'>\n",
            "RangeIndex: 6806 entries, 0 to 6805\n",
            "Data columns (total 2 columns):\n",
            " #   Column           Non-Null Count  Dtype \n",
            "---  ------           --------------  ----- \n",
            " 0   CONTROL          6806 non-null   int64 \n",
            " 1   MD_EARN_WNE_P10  5503 non-null   object\n",
            "dtypes: int64(1), object(1)\n",
            "memory usage: 106.5+ KB\n"
          ],
          "name": "stdout"
        }
      ]
    },
    {
      "cell_type": "code",
      "metadata": {
        "id": "O2qnifEt-q9j",
        "colab_type": "code",
        "colab": {}
      },
      "source": [
        "df2=df.replace(0, np.nan)\n",
        "df3=df2.dropna(subset=[\"MD_EARN_WNE_P10\"])"
      ],
      "execution_count": 0,
      "outputs": []
    },
    {
      "cell_type": "code",
      "metadata": {
        "id": "lTa581xLPrSh",
        "colab_type": "code",
        "colab": {}
      },
      "source": [
        "only_public = df3[df3[\"CONTROL\"] == 1]"
      ],
      "execution_count": 0,
      "outputs": []
    },
    {
      "cell_type": "code",
      "metadata": {
        "id": "Dl6F7CluP-Jk",
        "colab_type": "code",
        "outputId": "98bcc2c8-2a28-407e-da37-fc6c9f1827b2",
        "colab": {
          "base_uri": "https://localhost:8080/",
          "height": 34
        }
      },
      "source": [
        "only_public[\"MD_EARN_WNE_P10\"].isna().sum() #No Null values now"
      ],
      "execution_count": 17,
      "outputs": [
        {
          "output_type": "execute_result",
          "data": {
            "text/plain": [
              "0"
            ]
          },
          "metadata": {
            "tags": []
          },
          "execution_count": 17
        }
      ]
    },
    {
      "cell_type": "code",
      "metadata": {
        "id": "4ABdxJhqTBVt",
        "colab_type": "code",
        "colab": {
          "base_uri": "https://localhost:8080/",
          "height": 204
        },
        "outputId": "c42ea16c-ed08-4155-ddc9-65a193321fcf"
      },
      "source": [
        "only_public.sample(5) #sample of 5 "
      ],
      "execution_count": 19,
      "outputs": [
        {
          "output_type": "execute_result",
          "data": {
            "text/html": [
              "<div>\n",
              "<style scoped>\n",
              "    .dataframe tbody tr th:only-of-type {\n",
              "        vertical-align: middle;\n",
              "    }\n",
              "\n",
              "    .dataframe tbody tr th {\n",
              "        vertical-align: top;\n",
              "    }\n",
              "\n",
              "    .dataframe thead th {\n",
              "        text-align: right;\n",
              "    }\n",
              "</style>\n",
              "<table border=\"1\" class=\"dataframe\">\n",
              "  <thead>\n",
              "    <tr style=\"text-align: right;\">\n",
              "      <th></th>\n",
              "      <th>CONTROL</th>\n",
              "      <th>MD_EARN_WNE_P10</th>\n",
              "    </tr>\n",
              "  </thead>\n",
              "  <tbody>\n",
              "    <tr>\n",
              "      <th>1306</th>\n",
              "      <td>1</td>\n",
              "      <td>29800</td>\n",
              "    </tr>\n",
              "    <tr>\n",
              "      <th>4378</th>\n",
              "      <td>1</td>\n",
              "      <td>25200</td>\n",
              "    </tr>\n",
              "    <tr>\n",
              "      <th>2469</th>\n",
              "      <td>1</td>\n",
              "      <td>26200</td>\n",
              "    </tr>\n",
              "    <tr>\n",
              "      <th>2974</th>\n",
              "      <td>1</td>\n",
              "      <td>50100</td>\n",
              "    </tr>\n",
              "    <tr>\n",
              "      <th>2506</th>\n",
              "      <td>1</td>\n",
              "      <td>33200</td>\n",
              "    </tr>\n",
              "  </tbody>\n",
              "</table>\n",
              "</div>"
            ],
            "text/plain": [
              "      CONTROL MD_EARN_WNE_P10\n",
              "1306        1           29800\n",
              "4378        1           25200\n",
              "2469        1           26200\n",
              "2974        1           50100\n",
              "2506        1           33200"
            ]
          },
          "metadata": {
            "tags": []
          },
          "execution_count": 19
        }
      ]
    },
    {
      "cell_type": "code",
      "metadata": {
        "id": "sWRIbn29C6qi",
        "colab_type": "code",
        "colab": {
          "base_uri": "https://localhost:8080/",
          "height": 119
        },
        "outputId": "fdba881d-cfaa-4141-bce0-53e1f005c589"
      },
      "source": [
        "only_public['MD_EARN_WNE_P10'] = pd.to_numeric(only_public['MD_EARN_WNE_P10'], errors='coerce')"
      ],
      "execution_count": 28,
      "outputs": [
        {
          "output_type": "stream",
          "text": [
            "/usr/local/lib/python3.6/dist-packages/ipykernel_launcher.py:1: SettingWithCopyWarning: \n",
            "A value is trying to be set on a copy of a slice from a DataFrame.\n",
            "Try using .loc[row_indexer,col_indexer] = value instead\n",
            "\n",
            "See the caveats in the documentation: https://pandas.pydata.org/pandas-docs/stable/user_guide/indexing.html#returning-a-view-versus-a-copy\n",
            "  \"\"\"Entry point for launching an IPython kernel.\n"
          ],
          "name": "stderr"
        }
      ]
    },
    {
      "cell_type": "code",
      "metadata": {
        "id": "3d1y20aBEZiI",
        "colab_type": "code",
        "colab": {
          "base_uri": "https://localhost:8080/",
          "height": 170
        },
        "outputId": "72c5397b-541e-4dc2-a433-37deaea831e7"
      },
      "source": [
        "only_public['MD_EARN_WNE_P10'].describe()"
      ],
      "execution_count": 31,
      "outputs": [
        {
          "output_type": "execute_result",
          "data": {
            "text/plain": [
              "count      1853.000000\n",
              "mean      36083.216406\n",
              "std       13464.472651\n",
              "min       10800.000000\n",
              "25%       29000.000000\n",
              "50%       33500.000000\n",
              "75%       39800.000000\n",
              "max      241900.000000\n",
              "Name: MD_EARN_WNE_P10, dtype: float64"
            ]
          },
          "metadata": {
            "tags": []
          },
          "execution_count": 31
        }
      ]
    },
    {
      "cell_type": "code",
      "metadata": {
        "id": "-5-AgtycEgeX",
        "colab_type": "code",
        "colab": {}
      },
      "source": [
        "sample_50 = only_public.sample(50)"
      ],
      "execution_count": 0,
      "outputs": []
    },
    {
      "cell_type": "code",
      "metadata": {
        "id": "EUSF-QXlFiVA",
        "colab_type": "code",
        "colab": {}
      },
      "source": [
        "sample_50_mean  = sample_50.mean()"
      ],
      "execution_count": 0,
      "outputs": []
    },
    {
      "cell_type": "code",
      "metadata": {
        "id": "3y8mz0G6Fjfj",
        "colab_type": "code",
        "colab": {
          "base_uri": "https://localhost:8080/",
          "height": 68
        },
        "outputId": "3ef78573-545e-4afe-9895-7a7ddc262a62"
      },
      "source": [
        "sample_50_mean"
      ],
      "execution_count": 35,
      "outputs": [
        {
          "output_type": "execute_result",
          "data": {
            "text/plain": [
              "CONTROL                1.000000\n",
              "MD_EARN_WNE_P10    39506.521739\n",
              "dtype: float64"
            ]
          },
          "metadata": {
            "tags": []
          },
          "execution_count": 35
        }
      ]
    },
    {
      "cell_type": "code",
      "metadata": {
        "id": "BLfhf42HF0QE",
        "colab_type": "code",
        "colab": {}
      },
      "source": [
        "sample_50_std_dev = sample_50.std()"
      ],
      "execution_count": 0,
      "outputs": []
    },
    {
      "cell_type": "code",
      "metadata": {
        "id": "e20Srt0SF-R5",
        "colab_type": "code",
        "colab": {
          "base_uri": "https://localhost:8080/",
          "height": 68
        },
        "outputId": "ca36c423-ad93-4b3a-ed0a-4df1deee6c04"
      },
      "source": [
        "sample_50_std_dev"
      ],
      "execution_count": 37,
      "outputs": [
        {
          "output_type": "execute_result",
          "data": {
            "text/plain": [
              "CONTROL                0.000000\n",
              "MD_EARN_WNE_P10    18927.492082\n",
              "dtype: float64"
            ]
          },
          "metadata": {
            "tags": []
          },
          "execution_count": 37
        }
      ]
    },
    {
      "cell_type": "code",
      "metadata": {
        "id": "rZxQ9OJpF_dI",
        "colab_type": "code",
        "colab": {}
      },
      "source": [
        "#Calculating Standard error\n",
        "standard_error = sample_50_std_dev / math.sqrt(50)"
      ],
      "execution_count": 0,
      "outputs": []
    },
    {
      "cell_type": "code",
      "metadata": {
        "id": "arpBx2VPGaPb",
        "colab_type": "code",
        "colab": {
          "base_uri": "https://localhost:8080/",
          "height": 68
        },
        "outputId": "b27c3506-b7f2-42a2-86d8-e1d0e33489ab"
      },
      "source": [
        "standard_error"
      ],
      "execution_count": 42,
      "outputs": [
        {
          "output_type": "execute_result",
          "data": {
            "text/plain": [
              "CONTROL               0.0000\n",
              "MD_EARN_WNE_P10    2676.7516\n",
              "dtype: float64"
            ]
          },
          "metadata": {
            "tags": []
          },
          "execution_count": 42
        }
      ]
    },
    {
      "cell_type": "code",
      "metadata": {
        "id": "SB984ez0GieI",
        "colab_type": "code",
        "colab": {
          "base_uri": "https://localhost:8080/",
          "height": 119
        },
        "outputId": "cdc57f94-d647-4883-f730-e5b032636fc1"
      },
      "source": [
        "\n",
        "# Calculate 68% Confidence Interval (CI) - one standard error from the population mean\n",
        "# 68% chances the population mean is within the sample_mean (+ or -) the standard error (SE)\n",
        "LCL_68 = sample_50_mean -  standard_error\n",
        "UCL_68 = sample_50_mean +  standard_error\n",
        "\n",
        "print(\"Lower confidence limit at 68% confidence level = \", round(LCL_68,2))\n",
        "print(\"Upper confidence limit at 68% confidence level = \", round(UCL_68,2))"
      ],
      "execution_count": 43,
      "outputs": [
        {
          "output_type": "stream",
          "text": [
            "Lower confidence limit at 68% confidence level =  CONTROL                1.00\n",
            "MD_EARN_WNE_P10    36829.77\n",
            "dtype: float64\n",
            "Upper confidence limit at 68% confidence level =  CONTROL                1.00\n",
            "MD_EARN_WNE_P10    42183.27\n",
            "dtype: float64\n"
          ],
          "name": "stdout"
        }
      ]
    },
    {
      "cell_type": "code",
      "metadata": {
        "id": "hcOoRSrcG95t",
        "colab_type": "code",
        "colab": {
          "base_uri": "https://localhost:8080/",
          "height": 119
        },
        "outputId": "eb1c25a5-c3cd-49a8-d538-905001b74917"
      },
      "source": [
        "\n",
        "# Calculate 95% Confidence Interval (CI) - one standard error from the population mean\n",
        "# 90% chances the population mean is within the sample_mean + or - 2 * the standard error (SE)\n",
        "\n",
        "LCL_95 = sample_50_mean -  2 * standard_error\n",
        "UCL_95 = sample_50_mean +  2 * standard_error\n",
        "\n",
        "print(\"Lower confidence limit at 95% confidence level = \", round(LCL_95,2))\n",
        "print(\"Upper confidence limit at 95% confidence level = \", round(UCL_95,2))"
      ],
      "execution_count": 45,
      "outputs": [
        {
          "output_type": "stream",
          "text": [
            "Lower confidence limit at 95% confidence level =  CONTROL                1.00\n",
            "MD_EARN_WNE_P10    34153.02\n",
            "dtype: float64\n",
            "Upper confidence limit at 95% confidence level =  CONTROL                1.00\n",
            "MD_EARN_WNE_P10    44860.02\n",
            "dtype: float64\n"
          ],
          "name": "stdout"
        }
      ]
    },
    {
      "cell_type": "code",
      "metadata": {
        "id": "Ar0duOaJHoZb",
        "colab_type": "code",
        "colab": {
          "base_uri": "https://localhost:8080/",
          "height": 119
        },
        "outputId": "8f89165d-e30a-4563-91c6-de1e182103ad"
      },
      "source": [
        "\n",
        "# Calculate 99.7% Confidence Interval (CI) - one standard error from the population mean\n",
        "# 99.7% chances the population mean is within the sample_mean + or - 3 * the standard error (SE)\n",
        "LCL_997 = sample_50_mean -  3 * standard_error\n",
        "UCL_997 = sample_50_mean +  3 * standard_error\n",
        "print(\"Lower confidence limit at 99.7% confidence level = \", round(LCL_997,2))\n",
        "print(\"Upper confidence limit at 99.7% confidence level = \", round(UCL_997,2))"
      ],
      "execution_count": 46,
      "outputs": [
        {
          "output_type": "stream",
          "text": [
            "Lower confidence limit at 99.7% confidence level =  CONTROL                1.00\n",
            "MD_EARN_WNE_P10    31476.27\n",
            "dtype: float64\n",
            "Upper confidence limit at 99.7% confidence level =  CONTROL                1.00\n",
            "MD_EARN_WNE_P10    47536.78\n",
            "dtype: float64\n"
          ],
          "name": "stdout"
        }
      ]
    },
    {
      "cell_type": "code",
      "metadata": {
        "id": "sN1lDBHlH2IB",
        "colab_type": "code",
        "colab": {}
      },
      "source": [
        "sample_100 = only_public.sample(100)"
      ],
      "execution_count": 0,
      "outputs": []
    },
    {
      "cell_type": "code",
      "metadata": {
        "id": "0AkWYnKFIvdf",
        "colab_type": "code",
        "colab": {}
      },
      "source": [
        "sample_100_mean = sample_100.mean()"
      ],
      "execution_count": 0,
      "outputs": []
    },
    {
      "cell_type": "code",
      "metadata": {
        "id": "gn-_oVcoI3_X",
        "colab_type": "code",
        "colab": {
          "base_uri": "https://localhost:8080/",
          "height": 68
        },
        "outputId": "5d49359b-17cd-4f83-af65-488886dc4974"
      },
      "source": [
        "sample_100_mean"
      ],
      "execution_count": 49,
      "outputs": [
        {
          "output_type": "execute_result",
          "data": {
            "text/plain": [
              "CONTROL                1.00000\n",
              "MD_EARN_WNE_P10    34085.56701\n",
              "dtype: float64"
            ]
          },
          "metadata": {
            "tags": []
          },
          "execution_count": 49
        }
      ]
    },
    {
      "cell_type": "code",
      "metadata": {
        "id": "Tp66kSPWI5P9",
        "colab_type": "code",
        "colab": {}
      },
      "source": [
        "sample_100_std_dev = sample_100.std()"
      ],
      "execution_count": 0,
      "outputs": []
    },
    {
      "cell_type": "code",
      "metadata": {
        "id": "016mLBelJCgC",
        "colab_type": "code",
        "colab": {
          "base_uri": "https://localhost:8080/",
          "height": 68
        },
        "outputId": "9af3526b-1483-4df8-9673-e71dfa1d16f1"
      },
      "source": [
        "sample_100_std_dev"
      ],
      "execution_count": 51,
      "outputs": [
        {
          "output_type": "execute_result",
          "data": {
            "text/plain": [
              "CONTROL               0.000000\n",
              "MD_EARN_WNE_P10    7550.165419\n",
              "dtype: float64"
            ]
          },
          "metadata": {
            "tags": []
          },
          "execution_count": 51
        }
      ]
    },
    {
      "cell_type": "code",
      "metadata": {
        "id": "_0zwU9sEJDxw",
        "colab_type": "code",
        "colab": {}
      },
      "source": [
        "#Calculating Standard error\n",
        "standard_error2 = sample_100_std_dev / math.sqrt(100)"
      ],
      "execution_count": 0,
      "outputs": []
    },
    {
      "cell_type": "code",
      "metadata": {
        "id": "-yi78C3RJg4K",
        "colab_type": "code",
        "colab": {
          "base_uri": "https://localhost:8080/",
          "height": 68
        },
        "outputId": "41b5f07a-6994-4fcb-93ea-38888de909e6"
      },
      "source": [
        "standard_error2"
      ],
      "execution_count": 53,
      "outputs": [
        {
          "output_type": "execute_result",
          "data": {
            "text/plain": [
              "CONTROL              0.000000\n",
              "MD_EARN_WNE_P10    755.016542\n",
              "dtype: float64"
            ]
          },
          "metadata": {
            "tags": []
          },
          "execution_count": 53
        }
      ]
    },
    {
      "cell_type": "code",
      "metadata": {
        "id": "e3gVlqXAJiut",
        "colab_type": "code",
        "colab": {
          "base_uri": "https://localhost:8080/",
          "height": 119
        },
        "outputId": "751e4f3d-1b5a-401d-cf1f-79a1621ccfab"
      },
      "source": [
        "\n",
        "# Calculate 68% Confidence Interval (CI) - one standard error from the population mean\n",
        "# 68% chances the population mean is within the sample_mean (+ or -) the standard error (SE)\n",
        "LCL_68 = sample_100_mean -  standard_error2\n",
        "UCL_68 = sample_100_mean +  standard_error2\n",
        "\n",
        "print(\"Lower confidence limit at 68% confidence level = \", round(LCL_68,2))\n",
        "print(\"Upper confidence limit at 68% confidence level = \", round(UCL_68,2))"
      ],
      "execution_count": 54,
      "outputs": [
        {
          "output_type": "stream",
          "text": [
            "Lower confidence limit at 68% confidence level =  CONTROL                1.00\n",
            "MD_EARN_WNE_P10    33330.55\n",
            "dtype: float64\n",
            "Upper confidence limit at 68% confidence level =  CONTROL                1.00\n",
            "MD_EARN_WNE_P10    34840.58\n",
            "dtype: float64\n"
          ],
          "name": "stdout"
        }
      ]
    },
    {
      "cell_type": "code",
      "metadata": {
        "id": "y_YhkbAZJuWz",
        "colab_type": "code",
        "colab": {
          "base_uri": "https://localhost:8080/",
          "height": 119
        },
        "outputId": "1c569d68-6533-4bdd-a1a3-115330d98bed"
      },
      "source": [
        "# Calculate 95% Confidence Interval (CI) - one standard error from the population mean\n",
        "# 90% chances the population mean is within the sample_mean + or - 2 * the standard error (SE)\n",
        "\n",
        "LCL_95 = sample_100_mean -  2 * standard_error2\n",
        "UCL_95 = sample_100_mean +  2 * standard_error2\n",
        "\n",
        "print(\"Lower confidence limit at 95% confidence level = \", round(LCL_95,2))\n",
        "print(\"Upper confidence limit at 95% confidence level = \", round(UCL_95,2))"
      ],
      "execution_count": 56,
      "outputs": [
        {
          "output_type": "stream",
          "text": [
            "Lower confidence limit at 95% confidence level =  CONTROL                1.00\n",
            "MD_EARN_WNE_P10    32575.53\n",
            "dtype: float64\n",
            "Upper confidence limit at 95% confidence level =  CONTROL                1.0\n",
            "MD_EARN_WNE_P10    35595.6\n",
            "dtype: float64\n"
          ],
          "name": "stdout"
        }
      ]
    },
    {
      "cell_type": "code",
      "metadata": {
        "id": "WslXIEOXJyGW",
        "colab_type": "code",
        "colab": {
          "base_uri": "https://localhost:8080/",
          "height": 119
        },
        "outputId": "207db273-fd88-4e8c-c4be-aec1b6acf5b4"
      },
      "source": [
        "\n",
        "# Calculate 99.7% Confidence Interval (CI) - one standard error from the population mean\n",
        "# 99.7% chances the population mean is within the sample_mean + or - 3 * the standard error (SE)\n",
        "LCL_997 = sample_100_mean -  3 * standard_error2\n",
        "UCL_997 = sample_100_mean +  3 * standard_error2\n",
        "print(\"Lower confidence limit at 99.7% confidence level = \", round(LCL_997,2))\n",
        "print(\"Upper confidence limit at 99.7% confidence level = \", round(UCL_997,2))"
      ],
      "execution_count": 57,
      "outputs": [
        {
          "output_type": "stream",
          "text": [
            "Lower confidence limit at 99.7% confidence level =  CONTROL                1.00\n",
            "MD_EARN_WNE_P10    31820.52\n",
            "dtype: float64\n",
            "Upper confidence limit at 99.7% confidence level =  CONTROL                1.00\n",
            "MD_EARN_WNE_P10    36350.62\n",
            "dtype: float64\n"
          ],
          "name": "stdout"
        }
      ]
    },
    {
      "cell_type": "code",
      "metadata": {
        "id": "Dndu1Km7KRqA",
        "colab_type": "code",
        "colab": {}
      },
      "source": [
        "population_mean = only_public['MD_EARN_WNE_P10'].mean() #Population Mean"
      ],
      "execution_count": 0,
      "outputs": []
    },
    {
      "cell_type": "code",
      "metadata": {
        "id": "yQOgd_UcKwCj",
        "colab_type": "code",
        "colab": {}
      },
      "source": [
        "sample_mean = sample_100['MD_EARN_WNE_P10'].mean() #Sample mean"
      ],
      "execution_count": 0,
      "outputs": []
    },
    {
      "cell_type": "code",
      "metadata": {
        "id": "cxC50B3lK7VZ",
        "colab_type": "code",
        "colab": {
          "base_uri": "https://localhost:8080/",
          "height": 34
        },
        "outputId": "83915277-f19d-4924-b847-f9e089585c81"
      },
      "source": [
        "print(\"Difference is: \", population_mean - sample_mean)"
      ],
      "execution_count": 65,
      "outputs": [
        {
          "output_type": "stream",
          "text": [
            "Difference is:  1997.6493955191108\n"
          ],
          "name": "stdout"
        }
      ]
    },
    {
      "cell_type": "code",
      "metadata": {
        "id": "D9IQb4nlLZcR",
        "colab_type": "code",
        "colab": {}
      },
      "source": [
        ""
      ],
      "execution_count": 0,
      "outputs": []
    }
  ]
}